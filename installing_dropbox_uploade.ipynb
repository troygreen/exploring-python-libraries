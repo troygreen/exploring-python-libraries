{
 "cells": [
  {
   "cell_type": "markdown",
   "metadata": {},
   "source": [
    "\n",
    "# Dropbox Uploader\n",
    "- Dropbox Uploader is a BASH script which can be used to upload, download, list or delete files from Dropbox, an online file sharing, synchronization and backup service.\n",
    "\n",
    "https://github.com/andreafabrizi/Dropbox-Uploader/blob/master/README.md\n",
    "\n",
    "## DEPENDENCIES FOR INSTRUCTIONS\n",
    "- Steps shown below were only tested on Ubuntu 12.04\n",
    "\n",
    "## Step 1\n",
    "- Log into your Dropbox developer account in the URL below. If you don't have an account yet, make sure to create one\n",
    "before moving to the next step\n",
    "\n",
    "https://www.dropbox.com/developers/apps\n",
    "\n",
    "## Step 2\n",
    "$ wget curl 'https://raw.github.com/andreafabrizi/Dropbox-Uploader/master/dropbox_uploader.sh' -o /tmp/dropbox_uploader.sh\n",
    "\n",
    "## Step 3 \n",
    "$ sudo install /tmp/dropbox_uploader.sh /usr/local/bin/dropbox_uploader\n",
    "\n",
    "## Step 4\n",
    "$ chmod +x dropbox_uploader.sh\n",
    "\n",
    "## Step 5\n",
    "- In your DropBox developer account create a new app\n",
    "\n",
    "## Step 6\n",
    "- Generate access key token for the app\n",
    "\n",
    "## Step 7\n",
    "- Copy the access key\n",
    "\n",
    "## Step 8\n",
    "$ ./dropbox_uploader.sh\n",
    "\n",
    "## Step 9\n",
    "- Paste the access key into the terminal\n",
    "\n",
    "## Examples\n",
    "$ ./dropbox_uploader.sh list\n",
    "\n",
    "$ ./dropbox_uploader.sh download filename.csv"
   ]
  },
  {
   "cell_type": "code",
   "execution_count": null,
   "metadata": {
    "collapsed": true
   },
   "outputs": [],
   "source": []
  }
 ],
 "metadata": {
  "anaconda-cloud": {},
  "kernelspec": {
   "display_name": "Python [Root]",
   "language": "python",
   "name": "Python [Root]"
  },
  "language_info": {
   "codemirror_mode": {
    "name": "ipython",
    "version": 2
   },
   "file_extension": ".py",
   "mimetype": "text/x-python",
   "name": "python",
   "nbconvert_exporter": "python",
   "pygments_lexer": "ipython2",
   "version": "2.7.12"
  }
 },
 "nbformat": 4,
 "nbformat_minor": 0
}
