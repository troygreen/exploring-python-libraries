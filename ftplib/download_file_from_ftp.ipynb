{
 "cells": [
  {
   "cell_type": "markdown",
   "metadata": {},
   "source": [
    "# Download files from a secure FTP account\n",
    "\n",
    "## Requirements for exercise\n",
    "* ftplib library installed\n",
    "* pandas library installed\n",
    "* Internet connection\n",
    "\n",
    "## Tested Systems\n",
    "* Ubuntu 12.04\n",
    "* Mac OS"
   ]
  },
  {
   "cell_type": "markdown",
   "metadata": {},
   "source": [
    "## Step 1\n",
    "- Let's import ftplib and pandas"
   ]
  },
  {
   "cell_type": "code",
   "execution_count": 1,
   "metadata": {
    "collapsed": true
   },
   "outputs": [],
   "source": [
    "import ftplib\n",
    "import pandas as pd"
   ]
  },
  {
   "cell_type": "markdown",
   "metadata": {},
   "source": [
    "## Step 2\n",
    "- Let's first create a list that includes the filenames that need to be downloaded\n",
    "- If you only have one file that needs to be downloaded, just delete the other two records in the list"
   ]
  },
  {
   "cell_type": "code",
   "execution_count": 3,
   "metadata": {
    "collapsed": true
   },
   "outputs": [],
   "source": [
    "data = [{'filename':'filename_1.txt'},\n",
    "      {'filename':'filename_2.txt'},\n",
    "      {'filename':'filename_3.txt'}\n",
    "       ]"
   ]
  },
  {
   "cell_type": "markdown",
   "metadata": {},
   "source": [
    "## Step 3\n",
    "- Convert the list above to a dataframe\n",
    "- Change the \"filename\" character type to a string value\n",
    "- There are obviously alternative approaches to downloading files from FTP, which I won't be covering in this exercise"
   ]
  },
  {
   "cell_type": "code",
   "execution_count": 4,
   "metadata": {
    "collapsed": true
   },
   "outputs": [],
   "source": [
    "file_list = pd.DataFrame(data)\n",
    "file_list['filename'] = file_list['filename'].astype(str)"
   ]
  },
  {
   "cell_type": "markdown",
   "metadata": {},
   "source": [
    "## Step 4\n",
    "- Input the IP address and connection criteria in the options below"
   ]
  },
  {
   "cell_type": "code",
   "execution_count": null,
   "metadata": {
    "collapsed": true
   },
   "outputs": [],
   "source": [
    "ftp = ftplib.FTP(\"IP Address\")\n",
    "ftp.login(\"username\", \"password\")"
   ]
  },
  {
   "cell_type": "markdown",
   "metadata": {},
   "source": [
    "## Step 5\n",
    "- If you need to change the working directory input that information here"
   ]
  },
  {
   "cell_type": "code",
   "execution_count": null,
   "metadata": {
    "collapsed": true
   },
   "outputs": [],
   "source": [
    "ftp.cwd(\"/sub_directory\")"
   ]
  },
  {
   "cell_type": "markdown",
   "metadata": {},
   "source": [
    "## Step 6\n",
    "- It's time to download those files!\n",
    "- Using the loop below, it will download each filename listed in the dataframe using in previous steps"
   ]
  },
  {
   "cell_type": "code",
   "execution_count": null,
   "metadata": {
    "collapsed": true
   },
   "outputs": [],
   "source": [
    "for i in range(0, len(file_list)):    \n",
    "    filename =  file_list.iloc[i]['filename']\n",
    "    try:\n",
    "        ftp.retrbinary(\"RETR \" + filename ,open(filename, 'wb').write)\n",
    "        print filename + \" has been downloaded\"\n",
    "    except:\n",
    "        print \"Error\""
   ]
  },
  {
   "cell_type": "markdown",
   "metadata": {},
   "source": [
    "## List out files in a directory\n",
    "- To list out files of the working directory you can use the snippet of code below"
   ]
  },
  {
   "cell_type": "code",
   "execution_count": null,
   "metadata": {
    "collapsed": true
   },
   "outputs": [],
   "source": [
    "## LIST FILES IN DIRECTORY\n",
    "files = []\n",
    "\n",
    "try:\n",
    "    files = ftp.nlst()\n",
    "except ftplib.error_perm, resp:\n",
    "    if str(resp) == \"550 No files found\":\n",
    "        print \"No files in this directory\"\n",
    "    else:\n",
    "        raise\n",
    "\n",
    "for f in files:\n",
    "    print f"
   ]
  },
  {
   "cell_type": "code",
   "execution_count": null,
   "metadata": {
    "collapsed": true
   },
   "outputs": [],
   "source": []
  }
 ],
 "metadata": {
  "kernelspec": {
   "display_name": "Python 2",
   "language": "python",
   "name": "python2"
  },
  "language_info": {
   "codemirror_mode": {
    "name": "ipython",
    "version": 2
   },
   "file_extension": ".py",
   "mimetype": "text/x-python",
   "name": "python",
   "nbconvert_exporter": "python",
   "pygments_lexer": "ipython2",
   "version": "2.7.13"
  }
 },
 "nbformat": 4,
 "nbformat_minor": 2
}
