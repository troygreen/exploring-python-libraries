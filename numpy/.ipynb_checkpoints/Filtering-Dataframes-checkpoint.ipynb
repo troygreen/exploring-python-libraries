{
 "cells": [
  {
   "cell_type": "markdown",
   "metadata": {},
   "source": [
    "# Tips and Examples of Filtering Dataframes"
   ]
  },
  {
   "cell_type": "code",
   "execution_count": 36,
   "metadata": {
    "collapsed": true
   },
   "outputs": [],
   "source": [
    "# Import Pandas and Numpy\n",
    "import pandas as pd\n",
    "import numpy as np"
   ]
  },
  {
   "cell_type": "markdown",
   "metadata": {},
   "source": [
    "# Download fictitious dataset \n",
    "- This is a fictitious dataset for an online bike shop that I created and donated to the Creative Commons domain\n",
    "- Questions about this dataset can be seen here...."
   ]
  },
  {
   "cell_type": "code",
   "execution_count": 74,
   "metadata": {
    "collapsed": false
   },
   "outputs": [],
   "source": [
    "df = pd.read_csv('https://github.com/troygreen/exploring-python-libraries/raw/master/numpy/online-shop.csv')"
   ]
  },
  {
   "cell_type": "markdown",
   "metadata": {},
   "source": [
    "# Let's filter down to only items purchased in the transaction with a unit_price at or above $10"
   ]
  },
  {
   "cell_type": "code",
   "execution_count": 75,
   "metadata": {
    "collapsed": false,
    "scrolled": true
   },
   "outputs": [],
   "source": [
    "results = df[(df['unit_price'] >= 10)].head()\n",
    "\n",
    "# IF YOU WANT TO SAVE RESULTS AS A NEW DATAFRAME USE THE CODE SNIPPET BELOW\n",
    "# results = df[(df['unit_price'] >= 10)]"
   ]
  },
  {
   "cell_type": "markdown",
   "metadata": {},
   "source": [
    "# Now, let's pull all items purchased in California and in the \"Baskets\" sub-category."
   ]
  },
  {
   "cell_type": "code",
   "execution_count": 76,
   "metadata": {
    "collapsed": false,
    "scrolled": true
   },
   "outputs": [],
   "source": [
    "results = df[(df['state'] == 'California') &\n",
    "       (df['sub_category_dsc'] == 'Bells')]"
   ]
  },
  {
   "cell_type": "markdown",
   "metadata": {},
   "source": [
    "# Only include customers that contain the letters \"an\" in their last name and save as a new dataframe"
   ]
  },
  {
   "cell_type": "code",
   "execution_count": 77,
   "metadata": {
    "collapsed": false,
    "scrolled": true
   },
   "outputs": [],
   "source": [
    "results = df[df['customer_last_name'].str.contains(\"an\", case=False)]"
   ]
  },
  {
   "cell_type": "markdown",
   "metadata": {},
   "source": [
    "# Did you notice in the filter above I used \"case = False\"?\n",
    "- That means we aren't requiring the string value to be case sensitive, meaning the \"an\" could be upper or lower case\n",
    "- Pull a sample of 20 records to see for yourself"
   ]
  },
  {
   "cell_type": "code",
   "execution_count": 79,
   "metadata": {
    "collapsed": false
   },
   "outputs": [
    {
     "data": {
      "text/plain": [
       "0         Smith\n",
       "1         Jones\n",
       "2           Ray\n",
       "3         Davis\n",
       "4        Garcia\n",
       "5           Ray\n",
       "6        Garcia\n",
       "7     Rodriguez\n",
       "8        Wilson\n",
       "9        Wilson\n",
       "10       Wilson\n",
       "11     Martinez\n",
       "12     Martinez\n",
       "13     Martinez\n",
       "14          Ray\n",
       "15          Ray\n",
       "16          Ray\n",
       "17     Anderson\n",
       "18       Taylor\n",
       "19       Taylor\n",
       "Name: customer_last_name, dtype: object"
      ]
     },
     "execution_count": 79,
     "metadata": {},
     "output_type": "execute_result"
    }
   ],
   "source": [
    "df.customer_last_name.head(20)"
   ]
  },
  {
   "cell_type": "markdown",
   "metadata": {},
   "source": [
    "# Now, let's make the string value requirement case sensitive"
   ]
  },
  {
   "cell_type": "code",
   "execution_count": 80,
   "metadata": {
    "collapsed": false,
    "scrolled": true
   },
   "outputs": [],
   "source": [
    "results = df[df['customer_last_name'].str.contains(\"an\", case=True)]"
   ]
  },
  {
   "cell_type": "code",
   "execution_count": 82,
   "metadata": {
    "collapsed": false
   },
   "outputs": [
    {
     "data": {
      "text/plain": [
       "22     Hernandez\n",
       "43       Sanchez\n",
       "72         Evans\n",
       "73         Evans\n",
       "93        Morgan\n",
       "127      Sanders\n",
       "148    Alexander\n",
       "149    Alexander\n",
       "150    Alexander\n",
       "162       Bryant\n",
       "193      Freeman\n",
       "194      Freeman\n",
       "246         Ryan\n",
       "247         Ryan\n",
       "248         Ryan\n",
       "249    Fernandez\n",
       "250    Fernandez\n",
       "254      Daniels\n",
       "255      Daniels\n",
       "266         Tran\n",
       "Name: customer_last_name, dtype: object"
      ]
     },
     "execution_count": 82,
     "metadata": {},
     "output_type": "execute_result"
    }
   ],
   "source": [
    "results.customer_last_name.head(20)"
   ]
  },
  {
   "cell_type": "code",
   "execution_count": null,
   "metadata": {
    "collapsed": true
   },
   "outputs": [],
   "source": []
  }
 ],
 "metadata": {
  "kernelspec": {
   "display_name": "Python 2",
   "language": "python",
   "name": "python2"
  },
  "language_info": {
   "codemirror_mode": {
    "name": "ipython",
    "version": 2
   },
   "file_extension": ".py",
   "mimetype": "text/x-python",
   "name": "python",
   "nbconvert_exporter": "python",
   "pygments_lexer": "ipython2",
   "version": "2.7.11"
  }
 },
 "nbformat": 4,
 "nbformat_minor": 0
}
