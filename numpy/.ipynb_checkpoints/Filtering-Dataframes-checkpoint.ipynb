{
 "cells": [
  {
   "cell_type": "markdown",
   "metadata": {},
   "source": [
    "# Tips and Examples of Filtering Dataframes"
   ]
  },
  {
   "cell_type": "code",
   "execution_count": 1,
   "metadata": {
    "collapsed": true
   },
   "outputs": [],
   "source": [
    "# Import Pandas and Numpy\n",
    "import pandas as pd\n",
    "import numpy as np"
   ]
  },
  {
   "cell_type": "markdown",
   "metadata": {},
   "source": [
    "# Download fictitious dataset \n",
    "- This is a fictitious dataset for an online bike shop that I created and donated to the Creative Commons domain\n",
    "- Questions about this dataset can be seen here...."
   ]
  },
  {
   "cell_type": "code",
   "execution_count": 3,
   "metadata": {
    "collapsed": false
   },
   "outputs": [],
   "source": [
    "df = pd.read_csv('https://github.com/troygreen/exploring-python-libraries/raw/master/numpy/online-shop.csv')"
   ]
  },
  {
   "cell_type": "markdown",
   "metadata": {},
   "source": [
    "# Let's filter down to only items purchased in the transaction with a unit_price at or above $10"
   ]
  },
  {
   "cell_type": "code",
   "execution_count": 23,
   "metadata": {
    "collapsed": false,
    "scrolled": true
   },
   "outputs": [
    {
     "data": {
      "text/html": [
       "<div>\n",
       "<table border=\"1\" class=\"dataframe\">\n",
       "  <thead>\n",
       "    <tr style=\"text-align: right;\">\n",
       "      <th></th>\n",
       "      <th>row_id</th>\n",
       "      <th>order_id</th>\n",
       "      <th>order_date</th>\n",
       "      <th>days to ship</th>\n",
       "      <th>ship_date</th>\n",
       "      <th>order_status</th>\n",
       "      <th>category_id</th>\n",
       "      <th>category_dsc</th>\n",
       "      <th>sub_category_id</th>\n",
       "      <th>sub_category_dsc</th>\n",
       "      <th>...</th>\n",
       "      <th>order_quantity</th>\n",
       "      <th>sales</th>\n",
       "      <th>unit_price</th>\n",
       "      <th>product_margin</th>\n",
       "      <th>customer_id</th>\n",
       "      <th>customer_first_name</th>\n",
       "      <th>customer_last_name</th>\n",
       "      <th>email_newsletter</th>\n",
       "      <th>city</th>\n",
       "      <th>state</th>\n",
       "    </tr>\n",
       "  </thead>\n",
       "  <tbody>\n",
       "    <tr>\n",
       "      <th>72</th>\n",
       "      <td>28764</td>\n",
       "      <td>17426</td>\n",
       "      <td>12/1/2015</td>\n",
       "      <td>0</td>\n",
       "      <td>12/1/2015</td>\n",
       "      <td>complete</td>\n",
       "      <td>2</td>\n",
       "      <td>Accessories</td>\n",
       "      <td>1</td>\n",
       "      <td>Bells</td>\n",
       "      <td>...</td>\n",
       "      <td>1</td>\n",
       "      <td>$13.50</td>\n",
       "      <td>$13.50</td>\n",
       "      <td>0.45</td>\n",
       "      <td>48</td>\n",
       "      <td>Jakub</td>\n",
       "      <td>Evans</td>\n",
       "      <td>Yes</td>\n",
       "      <td>Chula Vista</td>\n",
       "      <td>California</td>\n",
       "    </tr>\n",
       "    <tr>\n",
       "      <th>93</th>\n",
       "      <td>98</td>\n",
       "      <td>98</td>\n",
       "      <td>7/28/2012</td>\n",
       "      <td>0</td>\n",
       "      <td>7/28/2012</td>\n",
       "      <td>complete</td>\n",
       "      <td>1</td>\n",
       "      <td>Accessories</td>\n",
       "      <td>1</td>\n",
       "      <td>Bells</td>\n",
       "      <td>...</td>\n",
       "      <td>2</td>\n",
       "      <td>$17.98</td>\n",
       "      <td>$8.99</td>\n",
       "      <td>0.37</td>\n",
       "      <td>62</td>\n",
       "      <td>Oscar</td>\n",
       "      <td>Morgan</td>\n",
       "      <td>Yes</td>\n",
       "      <td>Corona</td>\n",
       "      <td>California</td>\n",
       "    </tr>\n",
       "    <tr>\n",
       "      <th>127</th>\n",
       "      <td>28896</td>\n",
       "      <td>17586</td>\n",
       "      <td>12/1/2015</td>\n",
       "      <td>0</td>\n",
       "      <td>12/1/2015</td>\n",
       "      <td>complete</td>\n",
       "      <td>1</td>\n",
       "      <td>Accessories</td>\n",
       "      <td>1</td>\n",
       "      <td>Bells</td>\n",
       "      <td>...</td>\n",
       "      <td>2</td>\n",
       "      <td>$17.98</td>\n",
       "      <td>$8.99</td>\n",
       "      <td>0.37</td>\n",
       "      <td>88</td>\n",
       "      <td>Oliver</td>\n",
       "      <td>Sanders</td>\n",
       "      <td>Yes</td>\n",
       "      <td>Fontana</td>\n",
       "      <td>California</td>\n",
       "    </tr>\n",
       "    <tr>\n",
       "      <th>266</th>\n",
       "      <td>20940</td>\n",
       "      <td>7888</td>\n",
       "      <td>8/6/2012</td>\n",
       "      <td>0</td>\n",
       "      <td>8/6/2012</td>\n",
       "      <td>complete</td>\n",
       "      <td>1</td>\n",
       "      <td>Accessories</td>\n",
       "      <td>1</td>\n",
       "      <td>Bells</td>\n",
       "      <td>...</td>\n",
       "      <td>2</td>\n",
       "      <td>$17.98</td>\n",
       "      <td>$8.99</td>\n",
       "      <td>0.37</td>\n",
       "      <td>188</td>\n",
       "      <td>Isak</td>\n",
       "      <td>Tran</td>\n",
       "      <td>Yes</td>\n",
       "      <td>Ontario</td>\n",
       "      <td>California</td>\n",
       "    </tr>\n",
       "    <tr>\n",
       "      <th>284</th>\n",
       "      <td>27105</td>\n",
       "      <td>15372</td>\n",
       "      <td>8/19/2015</td>\n",
       "      <td>0</td>\n",
       "      <td>8/19/2015</td>\n",
       "      <td>complete</td>\n",
       "      <td>2</td>\n",
       "      <td>Accessories</td>\n",
       "      <td>1</td>\n",
       "      <td>Bells</td>\n",
       "      <td>...</td>\n",
       "      <td>1</td>\n",
       "      <td>$13.50</td>\n",
       "      <td>$13.50</td>\n",
       "      <td>0.45</td>\n",
       "      <td>206</td>\n",
       "      <td>Carlos</td>\n",
       "      <td>Andrews</td>\n",
       "      <td>No</td>\n",
       "      <td>Pomona</td>\n",
       "      <td>California</td>\n",
       "    </tr>\n",
       "  </tbody>\n",
       "</table>\n",
       "<p>5 rows × 23 columns</p>\n",
       "</div>"
      ],
      "text/plain": [
       "     row_id  order_id order_date  days to ship  ship_date order_status  \\\n",
       "72    28764     17426  12/1/2015             0  12/1/2015     complete   \n",
       "93       98        98  7/28/2012             0  7/28/2012     complete   \n",
       "127   28896     17586  12/1/2015             0  12/1/2015     complete   \n",
       "266   20940      7888   8/6/2012             0   8/6/2012     complete   \n",
       "284   27105     15372  8/19/2015             0  8/19/2015     complete   \n",
       "\n",
       "     category_id category_dsc  sub_category_id sub_category_dsc     ...      \\\n",
       "72             2  Accessories                1            Bells     ...       \n",
       "93             1  Accessories                1            Bells     ...       \n",
       "127            1  Accessories                1            Bells     ...       \n",
       "266            1  Accessories                1            Bells     ...       \n",
       "284            2  Accessories                1            Bells     ...       \n",
       "\n",
       "     order_quantity   sales unit_price  product_margin customer_id  \\\n",
       "72                1  $13.50     $13.50            0.45          48   \n",
       "93                2  $17.98      $8.99            0.37          62   \n",
       "127               2  $17.98      $8.99            0.37          88   \n",
       "266               2  $17.98      $8.99            0.37         188   \n",
       "284               1  $13.50     $13.50            0.45         206   \n",
       "\n",
       "    customer_first_name  customer_last_name  email_newsletter         city  \\\n",
       "72                Jakub               Evans               Yes  Chula Vista   \n",
       "93                Oscar              Morgan               Yes       Corona   \n",
       "127              Oliver             Sanders               Yes      Fontana   \n",
       "266                Isak                Tran               Yes      Ontario   \n",
       "284              Carlos             Andrews                No       Pomona   \n",
       "\n",
       "          state  \n",
       "72   California  \n",
       "93   California  \n",
       "127  California  \n",
       "266  California  \n",
       "284  California  \n",
       "\n",
       "[5 rows x 23 columns]"
      ]
     },
     "execution_count": 23,
     "metadata": {},
     "output_type": "execute_result"
    }
   ],
   "source": [
    "df[(df['unit_price'] >= 10)].head()\n",
    "\n",
    "# IF YOU WANT TO SAVE RESULTS AS A NEW DATAFRAME USE THE CODE SNIPPET BELOW\n",
    "# df = df[(df['unit_price'] >= 10)]"
   ]
  },
  {
   "cell_type": "markdown",
   "metadata": {},
   "source": [
    "# Now, let's pull all items purchased in California and in the \"Bells\" sub-category."
   ]
  },
  {
   "cell_type": "code",
   "execution_count": 24,
   "metadata": {
    "collapsed": false,
    "scrolled": true
   },
   "outputs": [
    {
     "data": {
      "text/html": [
       "<div>\n",
       "<table border=\"1\" class=\"dataframe\">\n",
       "  <thead>\n",
       "    <tr style=\"text-align: right;\">\n",
       "      <th></th>\n",
       "      <th>row_id</th>\n",
       "      <th>order_id</th>\n",
       "      <th>order_date</th>\n",
       "      <th>days to ship</th>\n",
       "      <th>ship_date</th>\n",
       "      <th>order_status</th>\n",
       "      <th>category_id</th>\n",
       "      <th>category_dsc</th>\n",
       "      <th>sub_category_id</th>\n",
       "      <th>sub_category_dsc</th>\n",
       "      <th>...</th>\n",
       "      <th>order_quantity</th>\n",
       "      <th>sales</th>\n",
       "      <th>unit_price</th>\n",
       "      <th>product_margin</th>\n",
       "      <th>customer_id</th>\n",
       "      <th>customer_first_name</th>\n",
       "      <th>customer_last_name</th>\n",
       "      <th>email_newsletter</th>\n",
       "      <th>city</th>\n",
       "      <th>state</th>\n",
       "    </tr>\n",
       "  </thead>\n",
       "  <tbody>\n",
       "    <tr>\n",
       "      <th>72</th>\n",
       "      <td>28764</td>\n",
       "      <td>17426</td>\n",
       "      <td>12/1/2015</td>\n",
       "      <td>0</td>\n",
       "      <td>12/1/2015</td>\n",
       "      <td>complete</td>\n",
       "      <td>2</td>\n",
       "      <td>Accessories</td>\n",
       "      <td>1</td>\n",
       "      <td>Bells</td>\n",
       "      <td>...</td>\n",
       "      <td>1</td>\n",
       "      <td>$13.50</td>\n",
       "      <td>$13.50</td>\n",
       "      <td>0.45</td>\n",
       "      <td>48</td>\n",
       "      <td>Jakub</td>\n",
       "      <td>Evans</td>\n",
       "      <td>Yes</td>\n",
       "      <td>Chula Vista</td>\n",
       "      <td>California</td>\n",
       "    </tr>\n",
       "    <tr>\n",
       "      <th>93</th>\n",
       "      <td>98</td>\n",
       "      <td>98</td>\n",
       "      <td>7/28/2012</td>\n",
       "      <td>0</td>\n",
       "      <td>7/28/2012</td>\n",
       "      <td>complete</td>\n",
       "      <td>1</td>\n",
       "      <td>Accessories</td>\n",
       "      <td>1</td>\n",
       "      <td>Bells</td>\n",
       "      <td>...</td>\n",
       "      <td>2</td>\n",
       "      <td>$17.98</td>\n",
       "      <td>$8.99</td>\n",
       "      <td>0.37</td>\n",
       "      <td>62</td>\n",
       "      <td>Oscar</td>\n",
       "      <td>Morgan</td>\n",
       "      <td>Yes</td>\n",
       "      <td>Corona</td>\n",
       "      <td>California</td>\n",
       "    </tr>\n",
       "    <tr>\n",
       "      <th>127</th>\n",
       "      <td>28896</td>\n",
       "      <td>17586</td>\n",
       "      <td>12/1/2015</td>\n",
       "      <td>0</td>\n",
       "      <td>12/1/2015</td>\n",
       "      <td>complete</td>\n",
       "      <td>1</td>\n",
       "      <td>Accessories</td>\n",
       "      <td>1</td>\n",
       "      <td>Bells</td>\n",
       "      <td>...</td>\n",
       "      <td>2</td>\n",
       "      <td>$17.98</td>\n",
       "      <td>$8.99</td>\n",
       "      <td>0.37</td>\n",
       "      <td>88</td>\n",
       "      <td>Oliver</td>\n",
       "      <td>Sanders</td>\n",
       "      <td>Yes</td>\n",
       "      <td>Fontana</td>\n",
       "      <td>California</td>\n",
       "    </tr>\n",
       "    <tr>\n",
       "      <th>266</th>\n",
       "      <td>20940</td>\n",
       "      <td>7888</td>\n",
       "      <td>8/6/2012</td>\n",
       "      <td>0</td>\n",
       "      <td>8/6/2012</td>\n",
       "      <td>complete</td>\n",
       "      <td>1</td>\n",
       "      <td>Accessories</td>\n",
       "      <td>1</td>\n",
       "      <td>Bells</td>\n",
       "      <td>...</td>\n",
       "      <td>2</td>\n",
       "      <td>$17.98</td>\n",
       "      <td>$8.99</td>\n",
       "      <td>0.37</td>\n",
       "      <td>188</td>\n",
       "      <td>Isak</td>\n",
       "      <td>Tran</td>\n",
       "      <td>Yes</td>\n",
       "      <td>Ontario</td>\n",
       "      <td>California</td>\n",
       "    </tr>\n",
       "    <tr>\n",
       "      <th>284</th>\n",
       "      <td>27105</td>\n",
       "      <td>15372</td>\n",
       "      <td>8/19/2015</td>\n",
       "      <td>0</td>\n",
       "      <td>8/19/2015</td>\n",
       "      <td>complete</td>\n",
       "      <td>2</td>\n",
       "      <td>Accessories</td>\n",
       "      <td>1</td>\n",
       "      <td>Bells</td>\n",
       "      <td>...</td>\n",
       "      <td>1</td>\n",
       "      <td>$13.50</td>\n",
       "      <td>$13.50</td>\n",
       "      <td>0.45</td>\n",
       "      <td>206</td>\n",
       "      <td>Carlos</td>\n",
       "      <td>Andrews</td>\n",
       "      <td>No</td>\n",
       "      <td>Pomona</td>\n",
       "      <td>California</td>\n",
       "    </tr>\n",
       "  </tbody>\n",
       "</table>\n",
       "<p>5 rows × 23 columns</p>\n",
       "</div>"
      ],
      "text/plain": [
       "     row_id  order_id order_date  days to ship  ship_date order_status  \\\n",
       "72    28764     17426  12/1/2015             0  12/1/2015     complete   \n",
       "93       98        98  7/28/2012             0  7/28/2012     complete   \n",
       "127   28896     17586  12/1/2015             0  12/1/2015     complete   \n",
       "266   20940      7888   8/6/2012             0   8/6/2012     complete   \n",
       "284   27105     15372  8/19/2015             0  8/19/2015     complete   \n",
       "\n",
       "     category_id category_dsc  sub_category_id sub_category_dsc     ...      \\\n",
       "72             2  Accessories                1            Bells     ...       \n",
       "93             1  Accessories                1            Bells     ...       \n",
       "127            1  Accessories                1            Bells     ...       \n",
       "266            1  Accessories                1            Bells     ...       \n",
       "284            2  Accessories                1            Bells     ...       \n",
       "\n",
       "     order_quantity   sales unit_price  product_margin customer_id  \\\n",
       "72                1  $13.50     $13.50            0.45          48   \n",
       "93                2  $17.98      $8.99            0.37          62   \n",
       "127               2  $17.98      $8.99            0.37          88   \n",
       "266               2  $17.98      $8.99            0.37         188   \n",
       "284               1  $13.50     $13.50            0.45         206   \n",
       "\n",
       "    customer_first_name  customer_last_name  email_newsletter         city  \\\n",
       "72                Jakub               Evans               Yes  Chula Vista   \n",
       "93                Oscar              Morgan               Yes       Corona   \n",
       "127              Oliver             Sanders               Yes      Fontana   \n",
       "266                Isak                Tran               Yes      Ontario   \n",
       "284              Carlos             Andrews                No       Pomona   \n",
       "\n",
       "          state  \n",
       "72   California  \n",
       "93   California  \n",
       "127  California  \n",
       "266  California  \n",
       "284  California  \n",
       "\n",
       "[5 rows x 23 columns]"
      ]
     },
     "execution_count": 24,
     "metadata": {},
     "output_type": "execute_result"
    }
   ],
   "source": [
    "df[(df['state'] == 'California') &\n",
    "       (df['sub_category_dsc'] == 'Bells')].head()"
   ]
  },
  {
   "cell_type": "markdown",
   "metadata": {},
   "source": [
    "# Only include customers that contain the letters \"an\" in their last name and save as a new dataframe"
   ]
  },
  {
   "cell_type": "code",
   "execution_count": 27,
   "metadata": {
    "collapsed": false,
    "scrolled": true
   },
   "outputs": [],
   "source": [
    "last_names = df[df['customer_last_name'].str.contains(\"an\", case=False)]"
   ]
  },
  {
   "cell_type": "markdown",
   "metadata": {},
   "source": [
    "# Did you notice in the filter above I used \"case = False\"?\n",
    "- That means we aren't requiring the string value to be case sensitive, meaning the \"an\" could be upper or lower case\n",
    "- Pull 20 samples to see for yourself"
   ]
  },
  {
   "cell_type": "code",
   "execution_count": 29,
   "metadata": {
    "collapsed": false
   },
   "outputs": [
    {
     "data": {
      "text/plain": [
       "72         Evans\n",
       "93        Morgan\n",
       "127      Sanders\n",
       "266         Tran\n",
       "284      Andrews\n",
       "285      Andrews\n",
       "286      Andrews\n",
       "288      Andrews\n",
       "312      Chapman\n",
       "315      Chapman\n",
       "341     Franklin\n",
       "342     Franklin\n",
       "409        Banks\n",
       "410        Banks\n",
       "812      Pittman\n",
       "814      Pittman\n",
       "845    Castaneda\n",
       "846    Castaneda\n",
       "931         Khan\n",
       "933         Khan\n",
       "Name: customer_last_name, dtype: object"
      ]
     },
     "execution_count": 29,
     "metadata": {},
     "output_type": "execute_result"
    }
   ],
   "source": [
    "df.customer_last_name.head(20)"
   ]
  },
  {
   "cell_type": "markdown",
   "metadata": {},
   "source": [
    "# Now, let's make the string value requirement case sensitive"
   ]
  },
  {
   "cell_type": "code",
   "execution_count": 30,
   "metadata": {
    "collapsed": false,
    "scrolled": true
   },
   "outputs": [],
   "source": [
    "last_names = df[df['customer_last_name'].str.contains(\"an\", case=True)]"
   ]
  },
  {
   "cell_type": "code",
   "execution_count": 33,
   "metadata": {
    "collapsed": false
   },
   "outputs": [
    {
     "data": {
      "text/plain": [
       "72          Evans\n",
       "93         Morgan\n",
       "127       Sanders\n",
       "266          Tran\n",
       "312       Chapman\n",
       "315       Chapman\n",
       "341      Franklin\n",
       "342      Franklin\n",
       "409         Banks\n",
       "410         Banks\n",
       "812       Pittman\n",
       "814       Pittman\n",
       "845     Castaneda\n",
       "846     Castaneda\n",
       "931          Khan\n",
       "933          Khan\n",
       "1126     Mcmillan\n",
       "1242      Stanton\n",
       "1243      Stanton\n",
       "1332       Chaney\n",
       "Name: customer_last_name, dtype: object"
      ]
     },
     "execution_count": 33,
     "metadata": {},
     "output_type": "execute_result"
    }
   ],
   "source": [
    "last_names.customer_last_name.head(20)"
   ]
  },
  {
   "cell_type": "code",
   "execution_count": null,
   "metadata": {
    "collapsed": true
   },
   "outputs": [],
   "source": []
  }
 ],
 "metadata": {
  "kernelspec": {
   "display_name": "Python 2",
   "language": "python",
   "name": "python2"
  },
  "language_info": {
   "codemirror_mode": {
    "name": "ipython",
    "version": 2
   },
   "file_extension": ".py",
   "mimetype": "text/x-python",
   "name": "python",
   "nbconvert_exporter": "python",
   "pygments_lexer": "ipython2",
   "version": "2.7.11"
  }
 },
 "nbformat": 4,
 "nbformat_minor": 0
}
